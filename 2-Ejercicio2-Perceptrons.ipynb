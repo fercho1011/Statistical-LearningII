{
 "cells": [
  {
   "cell_type": "markdown",
   "metadata": {},
   "source": [
    "# Jose Fernando Valdizon Giron\n",
    "## 17012696"
   ]
  },
  {
   "cell_type": "code",
   "execution_count": 1,
   "metadata": {},
   "outputs": [],
   "source": [
    "import numpy as np\n",
    "#Ref \n",
    "#https://medium.com/@stanleydukor/neural-representation-of-and-or-not-xor-and-xnor-logic-gates-perceptron-algorithm-b0275375fea1   "
   ]
  },
  {
   "cell_type": "markdown",
   "metadata": {},
   "source": [
    "#### Creating Activation Function"
   ]
  },
  {
   "cell_type": "code",
   "execution_count": 3,
   "metadata": {},
   "outputs": [],
   "source": [
    "def nn(entries, weights):\n",
    "    #print (np.matmul(entries,weights))\n",
    "    return 0 if np.matmul(entries,weights) < 0 else 1"
   ]
  },
  {
   "cell_type": "markdown",
   "metadata": {},
   "source": [
    "#### Implementing AND, OR, NOT Functions"
   ]
  },
  {
   "cell_type": "code",
   "execution_count": 4,
   "metadata": {},
   "outputs": [
    {
     "name": "stdout",
     "output_type": "stream",
     "text": [
      "1 AND 1 = 1\n"
     ]
    }
   ],
   "source": [
    "#AND\n",
    "b = 1\n",
    "w = np.array(([1],[1],[-1.5]))\n",
    "x1, x2 = 1, 1\n",
    "\n",
    "pred = nn(np.array([x1, x2, b]),w)\n",
    "print(f'{x1} AND {x2} = {pred}')"
   ]
  },
  {
   "cell_type": "code",
   "execution_count": 5,
   "metadata": {},
   "outputs": [
    {
     "name": "stdout",
     "output_type": "stream",
     "text": [
      "1 OR 0 = 1\n"
     ]
    }
   ],
   "source": [
    "#OR\n",
    "w = np.array(([1],[1],[-1]))\n",
    "x1, x2 = 1, 0\n",
    "pred = nn(np.array([x1, x2, b]),w)\n",
    "print(f'{x1} OR {x2} = {pred}')"
   ]
  },
  {
   "cell_type": "code",
   "execution_count": 6,
   "metadata": {},
   "outputs": [
    {
     "name": "stdout",
     "output_type": "stream",
     "text": [
      "NOT(1) = 0\n"
     ]
    }
   ],
   "source": [
    "#NOT\n",
    "w = np.array(([-1],[0]))\n",
    "x1=1\n",
    "pred = nn(np.array([x1, b]),w)\n",
    "print(f'NOT({x1}) = {pred}')"
   ]
  },
  {
   "cell_type": "markdown",
   "metadata": {},
   "source": [
    "#### Implementing XOR function as a combination of AND, OR, NOT"
   ]
  },
  {
   "cell_type": "code",
   "execution_count": 7,
   "metadata": {},
   "outputs": [
    {
     "name": "stdout",
     "output_type": "stream",
     "text": [
      "1 XOR 1 = 0\n",
      "0 XOR 1 = 1\n",
      "1 XOR 0 = 1\n",
      "0 XOR 0 = 0\n"
     ]
    }
   ],
   "source": [
    "#XOR\n",
    "def pXOR(x1,x2):\n",
    "    #XOR = OR(x1, x2) and NOT(AND(x1, x2))\n",
    "    b=1\n",
    "    #OR\n",
    "    w = np.array(([1],[1],[-1]))\n",
    "    p_or = nn(np.array([x1, x2, b]),w)\n",
    "    #AND\n",
    "    w = np.array(([1],[1],[-1.5]))\n",
    "    p_and = nn(np.array([x1, x2, b]),w)\n",
    "    #Not(p_and)\n",
    "    w = np.array(([-1],[0]))\n",
    "    p_not = nn(np.array([p_and, b]),w)\n",
    "    #Not(p_or AND p_not)\n",
    "    w = np.array(([1],[1],[-1.5]))\n",
    "    p_XOR = nn(np.array([p_or, p_not, b]),w)\n",
    "    return f'{x1} XOR {x2} = {p_XOR}'\n",
    "    \n",
    "testvalues = np.array([[1,1],[0,1],[1,0],[0,0]])\n",
    "\n",
    "for value in testvalues:\n",
    "    print(pXOR(value[0], value[1]))"
   ]
  },
  {
   "cell_type": "code",
   "execution_count": null,
   "metadata": {},
   "outputs": [],
   "source": []
  }
 ],
 "metadata": {
  "kernelspec": {
   "display_name": "Python 3",
   "language": "python",
   "name": "python3"
  },
  "language_info": {
   "codemirror_mode": {
    "name": "ipython",
    "version": 3
   },
   "file_extension": ".py",
   "mimetype": "text/x-python",
   "name": "python",
   "nbconvert_exporter": "python",
   "pygments_lexer": "ipython3",
   "version": "3.7.2"
  }
 },
 "nbformat": 4,
 "nbformat_minor": 2
}
