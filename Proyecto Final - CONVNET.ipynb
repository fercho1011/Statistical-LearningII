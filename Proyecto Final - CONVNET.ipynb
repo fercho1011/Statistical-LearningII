{
  "nbformat": 4,
  "nbformat_minor": 0,
  "metadata": {
    "colab": {
      "name": "CONVNET3.ipynb",
      "provenance": [],
      "collapsed_sections": [],
      "machine_shape": "hm",
      "include_colab_link": true
    },
    "kernelspec": {
      "name": "python3",
      "display_name": "Python 3"
    },
    "accelerator": "GPU"
  },
  "cells": [
    {
      "cell_type": "markdown",
      "metadata": {
        "id": "view-in-github",
        "colab_type": "text"
      },
      "source": [
        "<a href=\"https://colab.research.google.com/github/fercho1011/Statistical-LearningII/blob/master/Proyecto%20Final%20-%20CONVNET.ipynb\" target=\"_parent\"><img src=\"https://colab.research.google.com/assets/colab-badge.svg\" alt=\"Open In Colab\"/></a>"
      ]
    },
    {
      "cell_type": "code",
      "metadata": {
        "id": "uIVwFQiLU86F",
        "colab_type": "code",
        "outputId": "e1e9aee5-74dd-49df-eeda-59cdfaca8d65",
        "colab": {
          "base_uri": "https://localhost:8080/",
          "height": 34
        }
      },
      "source": [
        "from google.colab import drive\n",
        "drive.mount('/content/drive')"
      ],
      "execution_count": 1,
      "outputs": [
        {
          "output_type": "stream",
          "text": [
            "Drive already mounted at /content/drive; to attempt to forcibly remount, call drive.mount(\"/content/drive\", force_remount=True).\n"
          ],
          "name": "stdout"
        }
      ]
    },
    {
      "cell_type": "code",
      "metadata": {
        "id": "Hjyl09UYVAGE",
        "colab_type": "code",
        "outputId": "0b9df013-aae6-4c2d-d0cf-e254edebb117",
        "colab": {
          "base_uri": "https://localhost:8080/",
          "height": 34
        }
      },
      "source": [
        "cd drive/\"My Drive\""
      ],
      "execution_count": 2,
      "outputs": [
        {
          "output_type": "stream",
          "text": [
            "/content/drive/My Drive\n"
          ],
          "name": "stdout"
        }
      ]
    },
    {
      "cell_type": "code",
      "metadata": {
        "id": "UhR3ARbxVNKW",
        "colab_type": "code",
        "outputId": "2e17060e-aae5-4bf7-cf57-71000ffe9fa9",
        "colab": {
          "base_uri": "https://localhost:8080/",
          "height": 34
        }
      },
      "source": [
        "cd \"Colab Notebooks\""
      ],
      "execution_count": 3,
      "outputs": [
        {
          "output_type": "stream",
          "text": [
            "/content/drive/My Drive/Colab Notebooks\n"
          ],
          "name": "stdout"
        }
      ]
    },
    {
      "cell_type": "code",
      "metadata": {
        "id": "1DpHNJZvWQfg",
        "colab_type": "code",
        "outputId": "c38f3835-d580-4084-c8d3-affed3abfe3e",
        "colab": {
          "base_uri": "https://localhost:8080/",
          "height": 34
        }
      },
      "source": [
        "cd 'Final Proyect ML2'"
      ],
      "execution_count": 4,
      "outputs": [
        {
          "output_type": "stream",
          "text": [
            "/content/drive/My Drive/Colab Notebooks/Final Proyect ML2\n"
          ],
          "name": "stdout"
        }
      ]
    },
    {
      "cell_type": "code",
      "metadata": {
        "id": "q3ThUJZvWQlv",
        "colab_type": "code",
        "outputId": "6851a637-2993-4995-858e-a0a27fac49aa",
        "colab": {
          "base_uri": "https://localhost:8080/",
          "height": 34
        }
      },
      "source": [
        "ls"
      ],
      "execution_count": 5,
      "outputs": [
        {
          "output_type": "stream",
          "text": [
            "ANN.ipynb  \u001b[0m\u001b[01;34mDATASET\u001b[0m/  DATASET.zip  FtOrganic.npy  FtRecycled.npy  test.npy\n"
          ],
          "name": "stdout"
        }
      ]
    },
    {
      "cell_type": "code",
      "metadata": {
        "id": "VVeskqeHXBv4",
        "colab_type": "code",
        "colab": {}
      },
      "source": [
        "import numpy as np\n",
        "Organic = np.load('FtOrganic.npy', allow_pickle=True)\n"
      ],
      "execution_count": 0,
      "outputs": []
    },
    {
      "cell_type": "code",
      "metadata": {
        "id": "Kj2epp3_X3Ki",
        "colab_type": "code",
        "colab": {}
      },
      "source": [
        "Recycled = np.load('FtRecycled.npy', allow_pickle=True)"
      ],
      "execution_count": 0,
      "outputs": []
    },
    {
      "cell_type": "code",
      "metadata": {
        "id": "86gzoSl2X71J",
        "colab_type": "code",
        "colab": {}
      },
      "source": [
        "Test = np.load('test.npy', allow_pickle=True)\n"
      ],
      "execution_count": 0,
      "outputs": []
    },
    {
      "cell_type": "code",
      "metadata": {
        "id": "AScvwVHzX9mS",
        "colab_type": "code",
        "outputId": "cb3557b6-1bdf-4e50-bdaf-309b56880299",
        "colab": {
          "base_uri": "https://localhost:8080/",
          "height": 52
        }
      },
      "source": [
        "from PIL import Image\n",
        "image2 = Image.fromarray(Test[0])\n",
        "# summarize image details\n",
        "print(image2.mode)\n",
        "print(image2.size)\n",
        "image3 = image2.resize((150,150))"
      ],
      "execution_count": 9,
      "outputs": [
        {
          "output_type": "stream",
          "text": [
            "RGB\n",
            "(210, 240)\n"
          ],
          "name": "stdout"
        }
      ]
    },
    {
      "cell_type": "code",
      "metadata": {
        "id": "VRJtNbn1X8MJ",
        "colab_type": "code",
        "colab": {}
      },
      "source": [
        "#Reshaping Test images to 175x175 and storing into Array\n",
        "maxiters = 5000\n",
        "rTest = []\n",
        "count = 0\n",
        "for i in Test:\n",
        "  img = Image.fromarray(i)\n",
        "  if (np.array(img).shape[2])==3:\n",
        "    rTest.append(np.asarray(img.resize((175,175)))/255)\n",
        "  count +=1\n",
        "  if count == maxiters:\n",
        "    break"
      ],
      "execution_count": 0,
      "outputs": []
    },
    {
      "cell_type": "code",
      "metadata": {
        "id": "f-J2Pt49c7fp",
        "colab_type": "code",
        "colab": {
          "base_uri": "https://localhost:8080/",
          "height": 34
        },
        "outputId": "ec6fb7ee-4962-4375-be1f-8a8c01da3711"
      },
      "source": [
        ""
      ],
      "execution_count": 12,
      "outputs": [
        {
          "output_type": "execute_result",
          "data": {
            "text/plain": [
              "4968"
            ]
          },
          "metadata": {
            "tags": []
          },
          "execution_count": 12
        }
      ]
    },
    {
      "cell_type": "code",
      "metadata": {
        "id": "aupnZHivxcdi",
        "colab_type": "code",
        "colab": {}
      },
      "source": [
        "#Reshaping Organic images to 175x175 and storing in Array\n",
        "rOrganic = []\n",
        "count = 0\n",
        "\n",
        "for i in Organic:\n",
        "  img = Image.fromarray(i)\n",
        "  if (np.array(img).shape[2])==3:\n",
        "    rOrganic.append(np.asarray(img.resize((175,175)))/255)\n",
        "  count +=1\n",
        "  if count == maxiters:\n",
        "    break"
      ],
      "execution_count": 0,
      "outputs": []
    },
    {
      "cell_type": "code",
      "metadata": {
        "id": "Goez6mxwxcjc",
        "colab_type": "code",
        "colab": {}
      },
      "source": [
        "count = 0\n",
        "#Reshaping Recycled images to 175x175\n",
        "rRecycled = []\n",
        "for i in Recycled:\n",
        "  img = Image.fromarray(i)\n",
        "  if (np.array(img).shape[2])==3:\n",
        "    rRecycled.append(np.asarray(img.resize((175,175)))/255)\n",
        "  count +=1\n",
        "  if count == maxiters:\n",
        "    break"
      ],
      "execution_count": 0,
      "outputs": []
    },
    {
      "cell_type": "code",
      "metadata": {
        "id": "t3wXlMWU7Ms6",
        "colab_type": "code",
        "colab": {}
      },
      "source": [
        "#del rOrganic[2] #deletes inconsistent element\n",
        "#del rOrganic[194] #deletes inconsistent element"
      ],
      "execution_count": 0,
      "outputs": []
    },
    {
      "cell_type": "code",
      "metadata": {
        "id": "tcPJ2RGz_3Ur",
        "colab_type": "code",
        "colab": {}
      },
      "source": [
        "\n"
      ],
      "execution_count": 0,
      "outputs": []
    },
    {
      "cell_type": "code",
      "metadata": {
        "id": "Th_Y6PcixcrB",
        "colab_type": "code",
        "colab": {}
      },
      "source": [
        ""
      ],
      "execution_count": 0,
      "outputs": []
    },
    {
      "cell_type": "code",
      "metadata": {
        "id": "PFnsJdoZxcpK",
        "colab_type": "code",
        "colab": {}
      },
      "source": [
        "iAll = rOrganic + rRecycled #Combining all reshaped images Organic + Inorganic"
      ],
      "execution_count": 0,
      "outputs": []
    },
    {
      "cell_type": "code",
      "metadata": {
        "id": "Gwm1VR2txcnC",
        "colab_type": "code",
        "colab": {}
      },
      "source": [
        ""
      ],
      "execution_count": 0,
      "outputs": []
    },
    {
      "cell_type": "code",
      "metadata": {
        "id": "hGYShwbEzTjW",
        "colab_type": "code",
        "colab": {}
      },
      "source": [
        "lOrganic =np.ones(len(rOrganic))\n",
        "lRecycled =np.ones(len(rRecycled))\n",
        "\n",
        "lAll = list(lOrganic) + list(lRecycled) # Combining all labels from Organic and Recycled images"
      ],
      "execution_count": 0,
      "outputs": []
    },
    {
      "cell_type": "code",
      "metadata": {
        "id": "jUL-Fs8tzTmf",
        "colab_type": "code",
        "colab": {}
      },
      "source": [
        ""
      ],
      "execution_count": 0,
      "outputs": []
    },
    {
      "cell_type": "code",
      "metadata": {
        "id": "4eobMICgcb2s",
        "colab_type": "code",
        "colab": {}
      },
      "source": [
        ""
      ],
      "execution_count": 0,
      "outputs": []
    },
    {
      "cell_type": "code",
      "metadata": {
        "id": "LmIkImtmzTf9",
        "colab_type": "code",
        "colab": {}
      },
      "source": [
        "import random\n",
        "def Split(X, Y):#Receives inputs and labels and returns 3 sets for each (training, validation and test)\n",
        "  #Randomize data\n",
        "  combined = list(zip(X, Y))\n",
        "  random.shuffle(combined)\n",
        "  \n",
        "  X[:], Y[:] = zip(*combined)\n",
        "  \n",
        "  #Leaving 20% of the train_data/labels as the Test sets\n",
        "  tsSetLen = int(0.20*len(X))\n",
        "  vlSetLen = int(0.10*len(X))\n",
        "\n",
        "  #Test set\n",
        "  tsX = X[:tsSetLen] #Takes first 20% of dataset for Test\n",
        "  tsY = Y[:tsSetLen] #Takes first 20% of dataset for Test\n",
        "\n",
        "  #Training set\n",
        "  trX = X[tsSetLen:(len(X)-vlSetLen)]\n",
        "  trY = Y[tsSetLen:(len(Y)-vlSetLen)]\n",
        "  \n",
        "  #Validation set\n",
        "  vlX = X[(len(X)-vlSetLen):]\n",
        "  vlY = Y[(len(X)-vlSetLen):]\n",
        "  \n",
        "  return trX, trY, vlX, vlY, tsX, tsY  \n"
      ],
      "execution_count": 0,
      "outputs": []
    },
    {
      "cell_type": "code",
      "metadata": {
        "id": "slon5Zac36q1",
        "colab_type": "code",
        "colab": {}
      },
      "source": [
        "trX, trY, vlX, vlY, tsX, tsY = Split(iAll, lAll)"
      ],
      "execution_count": 0,
      "outputs": []
    },
    {
      "cell_type": "code",
      "metadata": {
        "id": "romWAk0lduRf",
        "colab_type": "code",
        "colab": {
          "base_uri": "https://localhost:8080/",
          "height": 34
        },
        "outputId": "569f30a3-e80d-44e7-aee4-db8181647897"
      },
      "source": [
        "len(vlY)"
      ],
      "execution_count": 18,
      "outputs": [
        {
          "output_type": "execute_result",
          "data": {
            "text/plain": [
              "984"
            ]
          },
          "metadata": {
            "tags": []
          },
          "execution_count": 18
        }
      ]
    },
    {
      "cell_type": "code",
      "metadata": {
        "id": "QLnuNMz8X6n1",
        "colab_type": "code",
        "colab": {
          "base_uri": "https://localhost:8080/",
          "height": 34
        },
        "outputId": "65079924-8aba-4963-f337-689e37b4a4f1"
      },
      "source": [
        "from keras.models import Sequential\n",
        "from keras.layers import Conv2D, MaxPooling2D, Flatten, Dense, Dropout"
      ],
      "execution_count": 19,
      "outputs": [
        {
          "output_type": "stream",
          "text": [
            "Using TensorFlow backend.\n"
          ],
          "name": "stderr"
        }
      ]
    },
    {
      "cell_type": "code",
      "metadata": {
        "id": "atnbCt3dWTxH",
        "colab_type": "code",
        "colab": {}
      },
      "source": [
        "model = Sequential()\n",
        "model.add(Conv2D(filters=32, kernel_size=(3,3), activation = 'relu', padding = 'same',input_shape=(175,175,3)))\n",
        "model.add(MaxPooling2D(pool_size=(2,2)))\n",
        "model.add(Conv2D(filters=32, kernel_size=(3,3), activation='relu', padding='same'))\n",
        "model.add(MaxPooling2D(pool_size=(2,2)))\n",
        "model.add(Conv2D(filters=32, kernel_size=(3,3), activation='relu', padding='same'))\n",
        "model.add(MaxPooling2D(pool_size=(2,2)))    \n",
        "model.add(Flatten())\n",
        "\n",
        "# Densely connected layers\n",
        "model.add(Dense(64, activation='relu'))\n",
        "\n",
        "# Output layer\n",
        "model.add(Dense(1, activation='sigmoid'))\n",
        "\n",
        "# compile with adam optimizer & categorical_crossentropy loss function\n",
        "model.compile(optimizer='adam', loss='binary_crossentropy', metrics=['accuracy'])\n"
      ],
      "execution_count": 0,
      "outputs": []
    },
    {
      "cell_type": "code",
      "metadata": {
        "id": "Qnctr0-LNdUr",
        "colab_type": "code",
        "colab": {
          "base_uri": "https://localhost:8080/",
          "height": 212
        },
        "outputId": "74f50ea9-d6d5-4f83-b19a-5ea496f6c2e2"
      },
      "source": [
        "results = model.fit(np.array(tsX), np.array(tsY), epochs=5, batch_size=32, validation_data=(np.array(vlX), np.array(vlY)))"
      ],
      "execution_count": 93,
      "outputs": [
        {
          "output_type": "stream",
          "text": [
            "Train on 1969 samples, validate on 984 samples\n",
            "Epoch 1/5\n",
            "1969/1969 [==============================] - 5s 3ms/step - loss: 0.0137 - acc: 0.9837 - val_loss: 1.1921e-07 - val_acc: 1.0000\n",
            "Epoch 2/5\n",
            "1969/1969 [==============================] - 4s 2ms/step - loss: 1.1921e-07 - acc: 1.0000 - val_loss: 1.1921e-07 - val_acc: 1.0000\n",
            "Epoch 3/5\n",
            "1969/1969 [==============================] - 4s 2ms/step - loss: 1.1921e-07 - acc: 1.0000 - val_loss: 1.1921e-07 - val_acc: 1.0000\n",
            "Epoch 4/5\n",
            "1969/1969 [==============================] - 4s 2ms/step - loss: 1.1921e-07 - acc: 1.0000 - val_loss: 1.1921e-07 - val_acc: 1.0000\n",
            "Epoch 5/5\n",
            "1969/1969 [==============================] - 4s 2ms/step - loss: 1.1921e-07 - acc: 1.0000 - val_loss: 1.1921e-07 - val_acc: 1.0000\n"
          ],
          "name": "stdout"
        }
      ]
    },
    {
      "cell_type": "code",
      "metadata": {
        "id": "lzu8VJo2eGa3",
        "colab_type": "code",
        "colab": {
          "base_uri": "https://localhost:8080/",
          "height": 478
        },
        "outputId": "2f4f4470-5672-4c64-94dc-dcd0764266ff"
      },
      "source": [
        "model.summary()"
      ],
      "execution_count": 94,
      "outputs": [
        {
          "output_type": "stream",
          "text": [
            "Model: \"sequential_6\"\n",
            "_________________________________________________________________\n",
            "Layer (type)                 Output Shape              Param #   \n",
            "=================================================================\n",
            "conv2d_16 (Conv2D)           (None, 175, 175, 32)      896       \n",
            "_________________________________________________________________\n",
            "max_pooling2d_16 (MaxPooling (None, 87, 87, 32)        0         \n",
            "_________________________________________________________________\n",
            "conv2d_17 (Conv2D)           (None, 87, 87, 32)        9248      \n",
            "_________________________________________________________________\n",
            "max_pooling2d_17 (MaxPooling (None, 43, 43, 32)        0         \n",
            "_________________________________________________________________\n",
            "conv2d_18 (Conv2D)           (None, 43, 43, 32)        9248      \n",
            "_________________________________________________________________\n",
            "max_pooling2d_18 (MaxPooling (None, 21, 21, 32)        0         \n",
            "_________________________________________________________________\n",
            "flatten_6 (Flatten)          (None, 14112)             0         \n",
            "_________________________________________________________________\n",
            "dense_11 (Dense)             (None, 64)                903232    \n",
            "_________________________________________________________________\n",
            "dense_12 (Dense)             (None, 1)                 65        \n",
            "=================================================================\n",
            "Total params: 922,689\n",
            "Trainable params: 922,689\n",
            "Non-trainable params: 0\n",
            "_________________________________________________________________\n"
          ],
          "name": "stdout"
        }
      ]
    },
    {
      "cell_type": "code",
      "metadata": {
        "id": "r6ihYwQ-kczG",
        "colab_type": "code",
        "colab": {
          "base_uri": "https://localhost:8080/",
          "height": 176
        },
        "outputId": "909dfab8-756c-4f50-e986-4551586f3738"
      },
      "source": [
        "model.layers"
      ],
      "execution_count": 95,
      "outputs": [
        {
          "output_type": "execute_result",
          "data": {
            "text/plain": [
              "[<keras.layers.convolutional.Conv2D at 0x7f4e27d279b0>,\n",
              " <keras.layers.pooling.MaxPooling2D at 0x7f4e27d274a8>,\n",
              " <keras.layers.convolutional.Conv2D at 0x7f4e27d274e0>,\n",
              " <keras.layers.pooling.MaxPooling2D at 0x7f4e27ca5ef0>,\n",
              " <keras.layers.convolutional.Conv2D at 0x7f4e27d27198>,\n",
              " <keras.layers.pooling.MaxPooling2D at 0x7f4e2c2db5f8>,\n",
              " <keras.layers.core.Flatten at 0x7f4e27ca5dd8>,\n",
              " <keras.layers.core.Dense at 0x7f4e27ebb128>,\n",
              " <keras.layers.core.Dense at 0x7f4e27b41390>]"
            ]
          },
          "metadata": {
            "tags": []
          },
          "execution_count": 95
        }
      ]
    },
    {
      "cell_type": "code",
      "metadata": {
        "id": "AV20htdTmiVC",
        "colab_type": "code",
        "colab": {
          "base_uri": "https://localhost:8080/",
          "height": 70
        },
        "outputId": "f6c05df8-4cdc-450a-8a40-d0928003c36c"
      },
      "source": [
        "from matplotlib import pyplot\n",
        "# summarize filter shapes\n",
        "for layer in model.layers:\n",
        "\t# check for convolutional layer\n",
        "\tif 'conv' not in layer.name:\n",
        "\t\tcontinue\n",
        "\t# get filter weights\n",
        "\tfilters, biases = layer.get_weights()\n",
        "\tprint(layer.name, filters.shape)"
      ],
      "execution_count": 96,
      "outputs": [
        {
          "output_type": "stream",
          "text": [
            "conv2d_16 (3, 3, 3, 32)\n",
            "conv2d_17 (3, 3, 32, 32)\n",
            "conv2d_18 (3, 3, 32, 32)\n"
          ],
          "name": "stdout"
        }
      ]
    },
    {
      "cell_type": "code",
      "metadata": {
        "id": "UL6FZgopmia7",
        "colab_type": "code",
        "colab": {}
      },
      "source": [
        "# retrieve weights from the second hidden layer\n",
        "filters, biases = model.layers[4].get_weights()"
      ],
      "execution_count": 0,
      "outputs": []
    },
    {
      "cell_type": "code",
      "metadata": {
        "id": "TmVGGNfmoma1",
        "colab_type": "code",
        "colab": {
          "base_uri": "https://localhost:8080/",
          "height": 34
        },
        "outputId": "aae93857-5027-452e-949c-04de11e611a0"
      },
      "source": [
        "filters.shape"
      ],
      "execution_count": 98,
      "outputs": [
        {
          "output_type": "execute_result",
          "data": {
            "text/plain": [
              "(3, 3, 32, 32)"
            ]
          },
          "metadata": {
            "tags": []
          },
          "execution_count": 98
        }
      ]
    },
    {
      "cell_type": "code",
      "metadata": {
        "id": "fSRm51jbnHVi",
        "colab_type": "code",
        "colab": {}
      },
      "source": [
        "#normalize filter values to 0-1 so we can visualize them\n",
        "f_min, f_max = filters.min(), filters.max()\n",
        "filters = (filters - f_min) / (f_max - f_min)\n"
      ],
      "execution_count": 0,
      "outputs": []
    },
    {
      "cell_type": "code",
      "metadata": {
        "id": "KWuJWB1ZnTFz",
        "colab_type": "code",
        "colab": {
          "base_uri": "https://localhost:8080/",
          "height": 254
        },
        "outputId": "a14d1d2c-1e39-4c45-e046-fe78c4c1ff8e"
      },
      "source": [
        "# plot first few filters\n",
        "n_filters, ix = 6, 1\n",
        "for i in range(n_filters):\n",
        "\t# get the filter\n",
        "\tf = filters[:, :, :, i]\n",
        "\t# plot each channel separately\n",
        "\tfor j in range(3):\n",
        "\t\t# specify subplot and turn of axis\n",
        "\t\tax = pyplot.subplot(n_filters, 3, ix)\n",
        "\t\tax.set_xticks([])\n",
        "\t\tax.set_yticks([])\n",
        "\t\t# plot filter channel in grayscale\n",
        "\t\tpyplot.imshow(f[:, :, j], cmap='gray')\n",
        "\t\tix += 1\n",
        "# show the figure\n",
        "pyplot.show()"
      ],
      "execution_count": 100,
      "outputs": [
        {
          "output_type": "display_data",
          "data": {
            "image/png": "[encoded data removed]",
            "text/plain": [
              "<Figure size 432x288 with 18 Axes>"
            ]
          },
          "metadata": {
            "tags": []
          }
        }
      ]
    }
  ]
}